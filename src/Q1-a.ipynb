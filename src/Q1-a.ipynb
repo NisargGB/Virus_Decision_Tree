{
 "cells": [
  {
   "cell_type": "code",
   "execution_count": 2,
   "metadata": {},
   "outputs": [],
   "source": [
    "import numpy as np\n",
    "import pandas as pd\n",
    "import math\n",
    "import time\n",
    "from xclib.data import data_utils"
   ]
  },
  {
   "cell_type": "code",
   "execution_count": 15,
   "metadata": {},
   "outputs": [],
   "source": [
    "datapath = './../virus/ass3_parta_data/'\n",
    "num_classes = 2"
   ]
  },
  {
   "cell_type": "code",
   "execution_count": 16,
   "metadata": {},
   "outputs": [],
   "source": [
    "def read_datafile(filepath):\n",
    "    temp = data_utils.read_sparse_file(filepath, force_header=True)\n",
    "    return temp"
   ]
  },
  {
   "cell_type": "code",
   "execution_count": 17,
   "metadata": {},
   "outputs": [],
   "source": [
    "class Node:\n",
    "    \n",
    "    def __init__(self, split_on, prediction, depth):\n",
    "        self.split_on = split_on\n",
    "        self.threshold = 0.0\n",
    "        self.left = None\n",
    "        self.right = None\n",
    "        self.depth = depth\n",
    "        self.prediction = prediction\n",
    "    \n",
    "    def is_leaf(self, y):\n",
    "        s = np.sum(y)\n",
    "        if s==0 or s==len(y):\n",
    "            return True\n",
    "        return False\n",
    "    \n",
    "    def entropy(self, y):\n",
    "        total = len(y)\n",
    "        num1 = np.sum(y)\n",
    "        num0 = total - num1\n",
    "        if(num0==0 or num1==0):\n",
    "            return 0.0\n",
    "        return (num0/total)*math.log(total/num0) + (num1/total)*math.log(total/num1)\n",
    "\n",
    "    def choose_best_attr2(self, X_tgt, y_tgt):\n",
    "        num_features = len(X_tgt[0])\n",
    "        entropy_curr = self.entropy(y_tgt)\n",
    "        # print(\"Entropy curr = \", entropy_curr)\n",
    "        total = len(y_tgt)\n",
    "        best_diff = 0\n",
    "        best_attr = 0\n",
    "        best_thres = 0\n",
    "        # t_iter_start = time.time()\n",
    "        for i in range(num_features):\n",
    "            # t1 = time.time()\n",
    "            # compute threshold\n",
    "            thres = np.median(X_tgt[:, i])\n",
    "            \n",
    "            # t2 = time.time()\n",
    "            # print(\"computing threshold: \",t2-t1)\n",
    "            # Split wrt threshold\n",
    "            filt_left = X_tgt[:,i]<=thres\n",
    "            filt_right = ~filt_left\n",
    "            # X_left = X_tgt[filt_left]\n",
    "            # X_right = X_tgt[filt_right]\n",
    "            y_left = y_tgt[filt_left]\n",
    "            y_right = y_tgt[filt_right]\n",
    "            if len(y_left)==0 or len(y_right)==0:\n",
    "                continue\n",
    "            \n",
    "            # t1=time.time()\n",
    "            # print(\"split wrt threshold: \", t1-t2)\n",
    "            # Calculate left and right entropies\n",
    "            totall = len(y_left)\n",
    "            num1l = np.sum(y_left)\n",
    "            num0l = totall - num1l\n",
    "            if(num0l==0 or num1l==0):\n",
    "                entropy_left = 0.0\n",
    "            else:\n",
    "                entropy_left = (num0l/totall)*math.log(totall/num0l) + (num1l/totall)*math.log(totall/num1l)\n",
    "            totalr = len(y_right)\n",
    "            num1r = np.sum(y_right)\n",
    "            num0r = totalr - num1r\n",
    "            if(num0r==0 or num1r==0):\n",
    "                entropy_right = 0.0\n",
    "            else:\n",
    "                entropy_right = (num0r/totalr)*math.log(totalr/num0r) + (num1r/totalr)*math.log(totalr/num1r)\n",
    "            diff = entropy_curr - (entropy_left*(totall/total) + entropy_right*(totalr/total))\n",
    "\n",
    "            # print(\"i = \", i)\n",
    "            # print(\"Entropy left = \", entropy_left)\n",
    "            # print(\"Entropy right = \", entropy_right)\n",
    "            # print(\"Threshold = \", thres)\n",
    "            if (diff >= best_diff):\n",
    "                best_diff = diff\n",
    "                best_attr = i\n",
    "                best_thres = thres\n",
    "            # t2 = time.time()\n",
    "            # print(\"Calculate entropies and compare: \", t2-t1)\n",
    "\n",
    "        if(best_diff <= 0):\n",
    "            return [-1, -1]\n",
    "        # t_iter_end = time.time()\n",
    "        # print(\"t_iter: \", t_iter_end-t_iter_start)\n",
    "        return [best_attr, best_thres]"
   ]
  },
  {
   "cell_type": "code",
   "execution_count": 18,
   "metadata": {},
   "outputs": [],
   "source": [
    "class MyDecisionTreeClassifier:\n",
    "\n",
    "    def __init__(self, max_depth=-1):\n",
    "        self.root = None\n",
    "        self.max_depth = max_depth\n",
    "        self.num_leaves = 0\n",
    "        self.num_nodes = 0\n",
    "        self.tree_depth = 0\n",
    "\n",
    "    def fit(self, X, y):\n",
    "        self.root = self.grow_tree(X, y)\n",
    "\n",
    "    def grow_tree(self, X, y, depth=0):\n",
    "        self.tree_depth = max(self.tree_depth, depth)\n",
    "\n",
    "        # print(\"Depth = \", depth)\n",
    "        # print(\"Size = \", len(y))\n",
    "\n",
    "        num_tgt = len(y)\n",
    "        if(np.sum(y) > num_tgt/2):\n",
    "            prediction = 1.0\n",
    "        else:\n",
    "            prediction = 0.0\n",
    "        \n",
    "        self.num_nodes += 1\n",
    "        node = Node(split_on=-1, prediction=prediction, depth=depth)\n",
    "\n",
    "        if(node.is_leaf(y) or (node.depth == self.max_depth and self.max_depth!=-1)):\n",
    "            self.num_leaves += 1\n",
    "            # print(\"Split on: leaf\\n\")\n",
    "            return node\n",
    "        \n",
    "        split_on, thres = node.choose_best_attr2(X, y)\n",
    "        ind_left = X[:,split_on] <= thres\n",
    "        ind_right = X[:,split_on] > thres\n",
    "        node.split_on = split_on\n",
    "        node.threshold = thres\n",
    "        # print(\"Split on: {}\\n\".format(split_on))\n",
    "\n",
    "        if split_on == -1:\n",
    "            self.num_leaves += 1\n",
    "            # print(\"Split on: leaf (no info gain)\\n\")\n",
    "            return node\n",
    "\n",
    "        node.left = self.grow_tree(X[ind_left], y[ind_left], depth=depth+1)\n",
    "        node.right = self.grow_tree(X[ind_right], y[ind_right], depth=depth+1)\n",
    "\n",
    "        return node\n",
    "    \n",
    "    def predict_sample(self, x):\n",
    "        node = self.root\n",
    "        pred = -1.0\n",
    "        while node!=None:\n",
    "            pred = node.prediction\n",
    "            split_attr = node.split_on\n",
    "            split_val = node.threshold\n",
    "            if x[split_attr] <= split_val:\n",
    "                node = node.left\n",
    "            else:\n",
    "                node = node.right\n",
    "        return pred\n",
    "    \n",
    "    def predict(self, X_test):\n",
    "        y_preds = np.array([self.predict_sample(x) for x in X_test])\n",
    "        return y_preds"
   ]
  },
  {
   "cell_type": "code",
   "execution_count": 25,
   "metadata": {},
   "outputs": [
    {
     "name": "stdout",
     "output_type": "stream",
     "text": "(64713, 482)\n(64713, 1)\n"
    }
   ],
   "source": [
    "train_data = read_datafile(datapath + 'train_x.txt')\n",
    "X_train = np.array(train_data.toarray(), dtype=int)\n",
    "y_train = np.genfromtxt(datapath + 'train_y.txt', dtype=int).reshape((-1,1))\n",
    "D_train = np.append(X_train, y_train, axis=1)\n",
    "print(X_train.shape)\n",
    "print(y_train.shape)"
   ]
  },
  {
   "cell_type": "code",
   "execution_count": 24,
   "metadata": {},
   "outputs": [
    {
     "data": {
      "text/plain": "array([[2., 0., 0., ..., 0., 0., 0.],\n       [0., 0., 0., ..., 0., 0., 0.],\n       [9., 0., 0., ..., 0., 0., 0.],\n       ...,\n       [0., 0., 0., ..., 0., 0., 0.],\n       [0., 0., 0., ..., 0., 0., 0.],\n       [4., 0., 0., ..., 0., 0., 0.]], dtype=float32)"
     },
     "execution_count": 24,
     "metadata": {},
     "output_type": "execute_result"
    }
   ],
   "source": [
    "train_data.toarray()"
   ]
  },
  {
   "cell_type": "code",
   "execution_count": 8,
   "metadata": {},
   "outputs": [],
   "source": [
    "# np.savetxt('X_train2.csv', X_train, fmt='%d')\n",
    "# np.savetxt('y_train.csv', y_train)"
   ]
  },
  {
   "cell_type": "code",
   "execution_count": 26,
   "metadata": {},
   "outputs": [
    {
     "name": "stdout",
     "output_type": "stream",
     "text": "Tree depth = 54\nTotal number of nodes = 20003\nTotal leaf nodes = 10002\nTime taken = 179.8130259513855 s\n"
    }
   ],
   "source": [
    "# X_train = X_train[:10]\n",
    "# y_train = y_train[:10]\n",
    "\n",
    "# Train a Decision tree classifier\n",
    "start = time.time()\n",
    "clf = MyDecisionTreeClassifier(max_depth=-1)\n",
    "clf.fit(X_train, y_train)\n",
    "\n",
    "end = time.time()\n",
    "print(\"Tree depth = {}\".format(clf.tree_depth))\n",
    "print(\"Total number of nodes = {}\".format(clf.num_nodes))\n",
    "print(\"Total leaf nodes = {}\".format(clf.num_leaves))\n",
    "print(\"Time taken = {} s\".format(end - start))"
   ]
  },
  {
   "cell_type": "code",
   "execution_count": 27,
   "metadata": {},
   "outputs": [
    {
     "name": "stdout",
     "output_type": "stream",
     "text": "Training accuracy = 90.44086968615271%\nTest accuracy = 77.97969496082703%\nValidation accuracy = 77.73039124791396%\n"
    }
   ],
   "source": [
    "# Making predictions\n",
    "X_test = read_datafile(datapath + 'train_x.txt').toarray()\n",
    "y_preds = clf.predict(X_test)\n",
    "y_test = np.genfromtxt(datapath + 'train_y.txt', dtype=float)\n",
    "check = (y_preds == y_test)\n",
    "accuracy = np.sum(check) * 100.0 / len(check)\n",
    "print(\"Training accuracy = {}%\".format(accuracy))\n",
    "X_test = read_datafile(datapath + 'test_x.txt').toarray()\n",
    "y_preds = clf.predict(X_test)\n",
    "y_test = np.genfromtxt(datapath + 'test_y.txt', dtype=float)\n",
    "check = (y_preds == y_test)\n",
    "accuracy = np.sum(check) * 100.0 / len(check)\n",
    "print(\"Test accuracy = {}%\".format(accuracy))\n",
    "X_test = read_datafile(datapath + 'valid_x.txt').toarray()\n",
    "y_preds = clf.predict(X_test)\n",
    "y_test = np.genfromtxt(datapath + 'valid_y.txt', dtype=float)\n",
    "check = (y_preds == y_test)\n",
    "accuracy = np.sum(check) * 100.0 / len(check)\n",
    "print(\"Validation accuracy = {}%\".format(accuracy))"
   ]
  },
  {
   "cell_type": "code",
   "execution_count": 13,
   "metadata": {},
   "outputs": [],
   "source": [
    "# np.savetxt('X_test.csv', X_test, fmt='%d')\n",
    "# np.savetxt('X_valid.csv', X_valid, fmt='%d')\n",
    "# np.savetxt('y_test.csv', y_test, fmt='%d')\n",
    "# np.savetxt('y_valid.csv', y_valid, fmt='%d')"
   ]
  },
  {
   "cell_type": "code",
   "execution_count": 279,
   "metadata": {},
   "outputs": [
    {
     "name": "stdout",
     "output_type": "stream",
     "text": "Tree depth = 0\nTotal number of nodes = 1\nTotal leaf nodes = 1\nTime taken = 0.0004570484161376953 s\n0 accuracy = 52.77610371949994%\n1 accuracy = 52.94144916786426%\n2 accuracy = 52.243649174856294%\n\nTree depth = 1\nTotal number of nodes = 3\nTotal leaf nodes = 2\nTime taken = 1.526113748550415 s\n0 accuracy = 65.69777324494305%\n1 accuracy = 65.64832413889017%\n2 accuracy = 65.53866122751715%\n\nTree depth = 2\nTotal number of nodes = 7\nTotal leaf nodes = 4\nTime taken = 2.811267852783203 s\n0 accuracy = 66.24634926521719%\n1 accuracy = 66.24171341152473%\n2 accuracy = 66.15983682551456%\n\nTree depth = 3\nTotal number of nodes = 15\nTotal leaf nodes = 8\nTime taken = 2.822997570037842 s\n0 accuracy = 66.54149861697032%\n1 accuracy = 66.71457048815539%\n2 accuracy = 66.34526237715558%\n\nTree depth = 4\nTotal number of nodes = 31\nTotal leaf nodes = 16\nTime taken = 2.9907660484313965 s\n0 accuracy = 66.73620447205353%\n1 accuracy = 66.7794724398498%\n2 accuracy = 66.604858149453%\n\nTree depth = 5\nTotal number of nodes = 61\nTotal leaf nodes = 31\nTime taken = 3.9470765590667725 s\n0 accuracy = 68.46846846846847%\n1 accuracy = 68.41592879328728%\n2 accuracy = 67.84720934544781%\n\nTree depth = 6\nTotal number of nodes = 109\nTotal leaf nodes = 55\nTime taken = 5.142950773239136 s\n0 accuracy = 70.76321604623492%\n1 accuracy = 70.57623661397247%\n2 accuracy = 69.88689041349897%\n\nTree depth = 7\nTotal number of nodes = 183\nTotal leaf nodes = 92\nTime taken = 6.456354379653931 s\n0 accuracy = 72.15551743853631%\n1 accuracy = 71.64711881693013%\n2 accuracy = 71.32393843871685%\n\nTree depth = 8\nTotal number of nodes = 303\nTotal leaf nodes = 152\nTime taken = 8.654704093933105 s\n0 accuracy = 74.00676834639098%\n1 accuracy = 73.48291687914329%\n2 accuracy = 72.89078435008344%\n\nTree depth = 9\nTotal number of nodes = 501\nTotal leaf nodes = 251\nTime taken = 12.278051853179932 s\n0 accuracy = 75.0050221748335%\n1 accuracy = 74.22928932362895%\n2 accuracy = 73.67884294455776%\n\nTree depth = 10\nTotal number of nodes = 783\nTotal leaf nodes = 392\nTime taken = 15.442377090454102 s\n0 accuracy = 75.95691746635143%\n1 accuracy = 75.15182420842798%\n2 accuracy = 74.4344520674949%\n\nTree depth = 11\nTotal number of nodes = 1165\nTotal leaf nodes = 583\nTime taken = 20.598767042160034 s\n0 accuracy = 76.6275709671936%\n1 accuracy = 75.29553567289416%\n2 accuracy = 74.70795475616539%\n\nTree depth = 12\nTotal number of nodes = 1627\nTotal leaf nodes = 814\nTime taken = 26.858011484146118 s\n0 accuracy = 78.75851838115989%\n1 accuracy = 77.30749617542071%\n2 accuracy = 76.52048952345633%\n\nTree depth = 13\nTotal number of nodes = 2185\nTotal leaf nodes = 1093\nTime taken = 34.17858123779297 s\n0 accuracy = 79.76604391698731%\n1 accuracy = 77.6783644708173%\n2 accuracy = 77.11385128870758%\n\nTree depth = 14\nTotal number of nodes = 2837\nTotal leaf nodes = 1419\nTime taken = 42.706059217453 s\n0 accuracy = 80.73339205414678%\n1 accuracy = 78.29493301191414%\n2 accuracy = 77.60522900055628%\n\nTree depth = 15\nTotal number of nodes = 3613\nTotal leaf nodes = 1807\nTime taken = 51.29566431045532 s\n0 accuracy = 81.4998531979664%\n1 accuracy = 78.32274813406889%\n2 accuracy = 77.71184869274987%\n\nTree depth = 16\nTotal number of nodes = 4429\nTotal leaf nodes = 2215\nTime taken = 61.388394594192505 s\n0 accuracy = 82.36366726932765%\n1 accuracy = 78.58699179453896%\n2 accuracy = 78.20322640459855%\n\nTree depth = 17\nTotal number of nodes = 5305\nTotal leaf nodes = 2653\nTime taken = 72.0275137424469 s\n0 accuracy = 82.97096410303958%\n1 accuracy = 78.66580130731074%\n2 accuracy = 78.28203226404598%\n\nTree depth = 18\nTotal number of nodes = 6265\nTotal leaf nodes = 3133\nTime taken = 83.37482690811157 s\n0 accuracy = 83.62771004280438%\n1 accuracy = 78.7028881368504%\n2 accuracy = 78.26348970888188%\n\nTree depth = 19\nTotal number of nodes = 7309\nTotal leaf nodes = 3655\nTime taken = 95.58881449699402 s\n0 accuracy = 84.20564646979741%\n1 accuracy = 78.75388252746744%\n2 accuracy = 78.48136473206007%\n\nTree depth = 20\nTotal number of nodes = 8463\nTotal leaf nodes = 4232\nTime taken = 109.9304428100586 s\n0 accuracy = 84.89175281628111%\n1 accuracy = 79.0088544805526%\n2 accuracy = 78.4860003708511%\n\nTree depth = 21\nTotal number of nodes = 9707\nTotal leaf nodes = 4854\nTime taken = 124.50691151618958 s\n0 accuracy = 85.50832135737797%\n1 accuracy = 78.7353391126976%\n2 accuracy = 78.39792323382161%\n\nTree depth = 22\nTotal number of nodes = 11023\nTotal leaf nodes = 5512\nTime taken = 141.37172508239746 s\n0 accuracy = 86.10325591457666%\n1 accuracy = 78.6055352093088%\n2 accuracy = 78.20786204338958%\n\nTree depth = 23\nTotal number of nodes = 12319\nTotal leaf nodes = 6160\nTime taken = 157.68372106552124 s\n0 accuracy = 86.80017925300945%\n1 accuracy = 78.50354642807473%\n2 accuracy = 78.2681253476729%\n\nTree depth = 24\nTotal number of nodes = 13509\nTotal leaf nodes = 6755\nTime taken = 173.3380479812622 s\n0 accuracy = 87.302396736359%\n1 accuracy = 78.36447081730101%\n2 accuracy = 78.11051362877805%\n\nTree depth = 25\nTotal number of nodes = 14649\nTotal leaf nodes = 7325\nTime taken = 188.0993537902832 s\n0 accuracy = 87.90351243181432%\n1 accuracy = 78.35056325622364%\n2 accuracy = 78.05952160207677%\n\nTree depth = 26\nTotal number of nodes = 15621\nTotal leaf nodes = 7811\nTime taken = 200.47945427894592 s\n0 accuracy = 88.35164495541854%\n1 accuracy = 78.13267813267814%\n2 accuracy = 78.03170776933061%\n\nTree depth = 27\nTotal number of nodes = 16417\nTotal leaf nodes = 8209\nTime taken = 210.6055829524994 s\n0 accuracy = 88.77505292599632%\n1 accuracy = 78.1141347179083%\n2 accuracy = 77.920452438346%\n\nTree depth = 28\nTotal number of nodes = 17063\nTotal leaf nodes = 8532\nTime taken = 221.77251267433167 s\n0 accuracy = 89.10883439185326%\n1 accuracy = 78.00751008298178%\n2 accuracy = 77.87873168922678%\n\nTree depth = 29\nTotal number of nodes = 17609\nTotal leaf nodes = 8805\nTime taken = 226.7226071357727 s\n0 accuracy = 89.38544032883655%\n1 accuracy = 78.05850447359882%\n2 accuracy = 78.00389393658446%\n\nTree depth = 30\nTotal number of nodes = 18041\nTotal leaf nodes = 9021\nTime taken = 232.75767922401428 s\n0 accuracy = 89.56623862284239%\n1 accuracy = 78.05386861990635%\n2 accuracy = 77.87409605043575%\n\nTree depth = 31\nTotal number of nodes = 18383\nTotal leaf nodes = 9192\nTime taken = 237.6083128452301 s\n0 accuracy = 89.72849350207841%\n1 accuracy = 78.05386861990635%\n2 accuracy = 77.90654552197293%\n\nTree depth = 32\nTotal number of nodes = 18639\nTotal leaf nodes = 9320\nTime taken = 239.2902135848999 s\n0 accuracy = 89.83357285244078%\n1 accuracy = 77.9843308145195%\n2 accuracy = 77.82310402373447%\n\nTree depth = 33\nTotal number of nodes = 18891\nTotal leaf nodes = 9446\nTime taken = 242.83379578590393 s\n0 accuracy = 89.94946919475221%\n1 accuracy = 77.92870057021%\n2 accuracy = 77.76747635824216%\n\nTree depth = 34\nTotal number of nodes = 19113\nTotal leaf nodes = 9557\nTime taken = 240.20477890968323 s\n0 accuracy = 90.028278707524%\n1 accuracy = 77.92870057021%\n2 accuracy = 77.73039124791396%\n\nTree depth = 35\nTotal number of nodes = 19293\nTotal leaf nodes = 9647\nTime taken = 245.76662182807922 s\n0 accuracy = 90.09472594378255%\n1 accuracy = 77.97505910713458%\n2 accuracy = 77.69794177637678%\n\nTree depth = 36\nTotal number of nodes = 19427\nTotal leaf nodes = 9714\nTime taken = 252.68870902061462 s\n0 accuracy = 90.1580826109128%\n1 accuracy = 78.0167817903667%\n2 accuracy = 77.70721305395884%\n\nTree depth = 37\nTotal number of nodes = 19511\nTotal leaf nodes = 9756\nTime taken = 253.61054635047913 s\n0 accuracy = 90.19516944045246%\n1 accuracy = 78.05386861990635%\n2 accuracy = 77.71648433154088%\n\nTree depth = 38\nTotal number of nodes = 19559\nTotal leaf nodes = 9780\nTime taken = 251.98112440109253 s\n0 accuracy = 90.22607513173551%\n1 accuracy = 78.05850447359882%\n2 accuracy = 77.72111997033191%\n\nTree depth = 39\nTotal number of nodes = 19593\nTotal leaf nodes = 9797\nTime taken = 252.72199749946594 s\n0 accuracy = 90.24152797737703%\n1 accuracy = 78.0492327662139%\n2 accuracy = 77.70721305395884%\n\nTree depth = 40\nTotal number of nodes = 19625\nTotal leaf nodes = 9813\nTime taken = 253.65810370445251 s\n0 accuracy = 90.25389025389025%\n1 accuracy = 77.9843308145195%\n2 accuracy = 77.73502688670499%\n\nTree depth = 41\nTotal number of nodes = 19667\nTotal leaf nodes = 9834\nTime taken = 255.36897659301758 s\n0 accuracy = 90.26316196127517%\n1 accuracy = 77.9843308145195%\n2 accuracy = 77.73039124791396%\n\nTree depth = 42\nTotal number of nodes = 19709\nTotal leaf nodes = 9855\nTime taken = 250.8836452960968 s\n0 accuracy = 90.29561293712237%\n1 accuracy = 77.9936025219044%\n2 accuracy = 77.72111997033191%\n\nTree depth = 43\nTotal number of nodes = 19751\nTotal leaf nodes = 9876\nTime taken = 251.16743159294128 s\n0 accuracy = 90.31570163645635%\n1 accuracy = 77.97042325344212%\n2 accuracy = 77.75820508066012%\n\nTree depth = 44\nTotal number of nodes = 19783\nTotal leaf nodes = 9892\nTime taken = 252.4300708770752 s\n0 accuracy = 90.3466073277394%\n1 accuracy = 77.95651569236475%\n2 accuracy = 77.69794177637678%\n\nTree depth = 45\nTotal number of nodes = 19813\nTotal leaf nodes = 9907\nTime taken = 252.48320508003235 s\n0 accuracy = 90.35433375056017%\n1 accuracy = 77.96115154605721%\n2 accuracy = 77.69794177637678%\n\nTree depth = 46\nTotal number of nodes = 19847\nTotal leaf nodes = 9924\nTime taken = 253.40418148040771 s\n0 accuracy = 90.36824131163753%\n1 accuracy = 77.97042325344212%\n2 accuracy = 77.72575560912294%\n\nTree depth = 47\nTotal number of nodes = 19883\nTotal leaf nodes = 9942\nTime taken = 255.74611949920654 s\n0 accuracy = 90.39451114922814%\n1 accuracy = 77.9518798386723%\n2 accuracy = 77.73039124791396%\n\nTree depth = 48\nTotal number of nodes = 19921\nTotal leaf nodes = 9961\nTime taken = 255.84874558448792 s\n0 accuracy = 90.4053281411772%\n1 accuracy = 77.96578739974966%\n2 accuracy = 77.73502688670499%\n\nTree depth = 49\nTotal number of nodes = 19955\nTotal leaf nodes = 9978\nTime taken = 256.7544012069702 s\n0 accuracy = 90.41923570225457%\n1 accuracy = 77.97505910713458%\n2 accuracy = 77.73039124791396%\n\nTree depth = 50\nTotal number of nodes = 19977\nTotal leaf nodes = 9989\nTime taken = 255.70536851882935 s\n0 accuracy = 90.42850740963948%\n1 accuracy = 77.97505910713458%\n2 accuracy = 77.73039124791396%\n\nTree depth = 51\nTotal number of nodes = 19989\nTotal leaf nodes = 9995\nTime taken = 258.48175287246704 s\n0 accuracy = 90.43623383246025%\n1 accuracy = 77.97042325344212%\n2 accuracy = 77.72575560912294%\n\nTree depth = 52\nTotal number of nodes = 19993\nTotal leaf nodes = 9997\nTime taken = 258.9336414337158 s\n0 accuracy = 90.43623383246025%\n1 accuracy = 77.97969496082703%\n2 accuracy = 77.73039124791396%\n\nTree depth = 53\nTotal number of nodes = 19999\nTotal leaf nodes = 10000\nTime taken = 261.09235167503357 s\n0 accuracy = 90.4377791170244%\n1 accuracy = 77.97969496082703%\n2 accuracy = 77.72111997033191%\n\nTree depth = 54\nTotal number of nodes = 20003\nTotal leaf nodes = 10002\nTime taken = 259.16072249412537 s\n0 accuracy = 90.44086968615271%\n1 accuracy = 77.97969496082703%\n2 accuracy = 77.73039124791396%\n\nTree depth = 54\nTotal number of nodes = 20003\nTotal leaf nodes = 10002\nTime taken = 260.55975222587585 s\n0 accuracy = 90.44086968615271%\n1 accuracy = 77.97969496082703%\n2 accuracy = 77.73039124791396%\n\n"
    }
   ],
   "source": [
    "# # Analyze number of nodes vs accuracy by varying depth\n",
    "# # tree_depths = [60]\n",
    "# tree_depths = np.arange(0, 56, step=1.0, dtype=float)\n",
    "# accuracies = np.zeros((len(tree_depths),3))\n",
    "# num_nodes_all = np.zeros(len(tree_depths))\n",
    "# num_leaves_all = np.zeros(len(tree_depths))\n",
    "\n",
    "# for i in range(len(tree_depths)):\n",
    "#     start = time.time()\n",
    "#     clf = MyDecisionTreeClassifier(max_depth=tree_depths[i])\n",
    "#     clf.fit(X_train, y_train)\n",
    "\n",
    "#     end = time.time()\n",
    "#     print(\"Tree depth = {}\".format(clf.tree_depth))\n",
    "#     print(\"Total number of nodes = {}\".format(clf.num_nodes))\n",
    "#     print(\"Total leaf nodes = {}\".format(clf.num_leaves))\n",
    "#     print(\"Time taken = {} s\".format(end - start))\n",
    "#     num_nodes_all[i] = clf.num_nodes\n",
    "#     num_leaves_all[i] = clf.num_leaves\n",
    "\n",
    "#     test_sets = {0: {'x': datapath+'train_x.txt', 'y': datapath + 'train_y.txt'},\n",
    "#                  1: {'x': datapath+'test_x.txt', 'y': datapath + 'test_y.txt'},\n",
    "#                  2: {'x': datapath+'valid_x.txt', 'y': datapath + 'valid_y.txt'}}\n",
    "\n",
    "#     for key in test_sets:\n",
    "#         X_test = read_datafile(test_sets[key]['x']).toarray()\n",
    "#         y_preds = clf.predict(X_test)\n",
    "#         y_test = np.genfromtxt(test_sets[key]['y'], dtype=float)\n",
    "#         check = (y_preds == y_test)\n",
    "#         accuracy = np.sum(check) * 100.0 / len(check)\n",
    "#         accuracies[i][key] = accuracy       \n",
    "#         print(str(key) + \" accuracy = {}%\".format(accuracy))\n",
    "#     print(\"\")"
   ]
  },
  {
   "cell_type": "code",
   "execution_count": 280,
   "metadata": {},
   "outputs": [],
   "source": [
    "# np.savetxt('./../bin/Q1-aAll_nodes.txt', num_nodes_all, fmt='%d')\n",
    "# np.savetxt('./../bin/Leaves.txt', num_leaves_all, fmt='%d')\n",
    "# np.savetxt('./../bin/Sampled_depths.txt', tree_depths, fmt='%d')\n",
    "# np.savetxt('./../bin/Accuracies.txt', accuracies, delimiter=',', fmt='%.05f')"
   ]
  },
  {
   "cell_type": "code",
   "execution_count": 281,
   "metadata": {},
   "outputs": [
    {
     "data": {
      "text/plain": "0.7726682736881142"
     },
     "execution_count": 281,
     "metadata": {},
     "output_type": "execute_result"
    }
   ],
   "source": [
    "from sklearn import tree\n",
    "from sklearn.metrics import accuracy_score\n",
    "\n",
    "skl_dtreeclf = tree.DecisionTreeClassifier(criterion='entropy')\n",
    "skl_dtreeclf.fit(X_train, y_train)\n",
    "\n",
    "y_skl = skl_dtreeclf.predict(X_test)\n",
    "accuracy_score(y_skl, y_test)"
   ]
  },
  {
   "cell_type": "code",
   "execution_count": 282,
   "metadata": {},
   "outputs": [
    {
     "name": "stdout",
     "output_type": "stream",
     "text": "1\n"
    }
   ],
   "source": [
    "# print(root.left.left.left.left.right.right.prediction)\n",
    "print(np.sum(X_train[:,216]==5))"
   ]
  },
  {
   "cell_type": "code",
   "execution_count": 283,
   "metadata": {},
   "outputs": [
    {
     "name": "stdout",
     "output_type": "stream",
     "text": "[7. 1. 2. ... 3. 7. 3.]\n"
    },
    {
     "data": {
      "text/plain": "0.0"
     },
     "execution_count": 283,
     "metadata": {},
     "output_type": "execute_result"
    }
   ],
   "source": [
    "print(X_train[:,363])\n",
    "clf.root.threshold"
   ]
  },
  {
   "cell_type": "code",
   "execution_count": 3,
   "metadata": {},
   "outputs": [
    {
     "data": {
      "text/plain": "2.5"
     },
     "execution_count": 3,
     "metadata": {},
     "output_type": "execute_result"
    }
   ],
   "source": [
    "merax = np.arange(9).reshape((3,3))\n",
    "meraxcopy = merax\n",
    "merafilt = merax[:,:] >= 4\n",
    "merax2 = merax[merafilt]\n",
    "np.bitwise_not(merafilt)\n",
    "meraa = np.array([1,2,3,4], dtype=int)\n",
    "merab = np.array([1,2,3,5])\n",
    "np.median(np.array([[4,2,1,3]]))\n",
    "merax*merafilt\n",
    "~merafilt\n",
    "np.median(meraa)\n",
    "# meraa == merab"
   ]
  },
  {
   "cell_type": "code",
   "execution_count": 285,
   "metadata": {},
   "outputs": [],
   "source": [
    "def entropy(y):\n",
    "    total = len(y)\n",
    "    num1 = np.sum(y)\n",
    "    num0 = total - num1\n",
    "    if(num0==0 or num1==0):\n",
    "        return 0.0\n",
    "    return (num0/total)*math.log(total/num0) + (num1/total)*math.log(total/num1)"
   ]
  },
  {
   "cell_type": "code",
   "execution_count": 286,
   "metadata": {},
   "outputs": [],
   "source": [
    "def calc_threshold(attr, indices):\n",
    "    target = X_train[indices][attr].reshape(-1)\n",
    "    return np.median(target)"
   ]
  },
  {
   "cell_type": "code",
   "execution_count": 287,
   "metadata": {},
   "outputs": [],
   "source": [
    "# Return the samples with attr value <= threshold and > threshold\n",
    "def split_data(indices, attr):\n",
    "    X_tgt = X_train[indices]\n",
    "    y_tgt = y_train[indices]\n",
    "    thres = calc_threshold(attr, indices)\n",
    "    # print(\"threshold: \", thres)\n",
    "    filt = X_tgt[:,attr] <= thres\n",
    "    return [indices[filt], indices[np.bitwise_not(filt)]]"
   ]
  },
  {
   "cell_type": "code",
   "execution_count": 288,
   "metadata": {},
   "outputs": [],
   "source": [
    "def predict(tree_root, x):\n",
    "    node = tree_root\n",
    "    while node!=None:\n",
    "        pred = node.prediction\n",
    "        split_attr = node.split_on\n",
    "        split_val = node.threshold\n",
    "        if x[split_attr] <= split_val:\n",
    "            node = node.left\n",
    "        else:\n",
    "            node = node.right\n",
    "    return pred"
   ]
  },
  {
   "cell_type": "code",
   "execution_count": 289,
   "metadata": {},
   "outputs": [],
   "source": [
    "def choose_best_attr(X_tgt, y_tgt):\n",
    "    # X_tgt = X_train[self.indices]\n",
    "    # y_tgt = y_train[self.indices]\n",
    "    D_tgt = np.append(X_tgt, y_tgt, axis=1)\n",
    "    entropy_curr = entropy(y_tgt)\n",
    "    print(\"Entropy curr = \", entropy_curr)\n",
    "    total = len(y_tgt)\n",
    "    best_diff = 0\n",
    "    best_attr = 0\n",
    "    best_thres = 0\n",
    "    # compute threshold\n",
    "    thresholds = np.median(X_tgt, axis=0)\n",
    "    entropy_curr = entropy(y_tgt)\n",
    "    filters_left = np.array([X_tgt[:,i]<=thresholds[i] for i in range(num_features)])\n",
    "    filters_right = np.array([~filt for filt in filters_left])\n",
    "    Ds_left = np.array([D_tgt[filt_left] for filt_left in filters_left])\n",
    "    Ds_right = np.array([D_tgt[filt_right] for filt_right in filters_right])\n",
    "    \n",
    "    Ds_left = Ds_left[[len(D_left)>0 for D_left in Ds_left]]\n",
    "    Ds_right = Ds_right[[len(D_right)>0 for D_right in Ds_right]]\n",
    "\n",
    "    totalls = np.array([len(D_left[:,-1]) for D_left in Ds_left])\n",
    "    num1ls = np.array([np.sum(D_left[:,-1]) for D_left in Ds_left])\n",
    "    num0ls = totalls - num1ls\n",
    "    entropies_left = np,array([(num0ls[i]/totalls[i])*math.log(totalls[i]/num0ls[i]) + (num1ls[i]/totalls[i])*math.log(totalls[i]/num1ls[i]) if num0ls[i]!=0 and num1ls[i]!=0 else 0 for i in range(num_features)])\n",
    "\n",
    "    totalrs = np.array([len(D_right[:,-1]) for D_right in Ds_right])\n",
    "    num1rs = np.array([np.sum(D_right[:,-1]) for D_right in Ds_right])\n",
    "    num0rs = totalrs - num1rs\n",
    "    entropies_right = np,array([(num0rs[i]/totalrs[i])*math.log(totalrs[i]/num0rs[i]) + (num1rs[i]/totalrs[i])*math.log(totalrs[i]/num1rs[i]) if num0rs[i]!=0 and num1rs[i]!=0 else 0 for i in range(num_features)])\n",
    "        \n",
    "    diffs = [entropy_curr]*(num_features) - (entropies_left * (totalls/total) + entropies_right * (totalrs/total))\n",
    "    best_diff = np.max(diffs)\n",
    "    best_attr = np.argmax(diffs)\n",
    "    best_thres = thresholds(best_attr)\n",
    "        # print(\"i = \", i)\n",
    "        # print(\"Entropy left = \", entropy_left)\n",
    "        # print(\"Entropy right = \", entropy_right)\n",
    "        # print(\"Threshold = \", thres)\n",
    "    # print(best_diff)\n",
    "    if(best_diff <= 0):\n",
    "        return [-1, -1]\n",
    "    return [best_attr, best_thres]"
   ]
  },
  {
   "cell_type": "code",
   "execution_count": 290,
   "metadata": {},
   "outputs": [],
   "source": [
    "def choose_best_attr3_child(i, node):\n",
    "    X_tgt = X_train[node.indices]\n",
    "    y_tgt = y_train[node.indices]\n",
    "    # compute threshold\n",
    "    thres = np.median(X_tgt[:, i])\n",
    "    entropy_curr = entropy(y_tgt)\n",
    "    # Split wrt threshold\n",
    "    filt_left = X_tgt[:,i]<=thres\n",
    "    filt_right = np.bitwise_not(filt_left)\n",
    "    X_left = X_tgt[filt_left]\n",
    "    X_right = X_tgt[filt_right]\n",
    "    if len(X_left)==0 or len(X_right)==0:\n",
    "        return -1\n",
    "    # print(\"i = \", i)\n",
    "    # print(\"left ind: \", left_ind)\n",
    "    # print(\"right ind: \", right_ind)\n",
    "    # print(\"Entropy left = \", entropy_left)\n",
    "    # print(\"Entropy right = \", entropy_right)\n",
    "    entropy_left = entropy(y_tgt[filt_left])\n",
    "    entropy_right = entropy(y_tgt[filt_right])\n",
    "    diff = entropy_curr - (entropy_left + entropy_right)\n",
    "\n",
    "    return diff\n",
    "\n",
    "def choose_best_attr3(node):\n",
    "    # X_tgt = X_train[node.indices]\n",
    "    # y_tgt = y_train[node.indices]\n",
    "\n",
    "    best_diff = 0\n",
    "    best_attr = 0\n",
    "    attrs = np.arange(num_features)\n",
    "    # print(X_tgt.shape)\n",
    "    f = lambda i: choose_best_attr3_child(i, node)\n",
    "    diffs = np.array(list(map(f, attrs)))\n",
    "    return np.argmax(diffs)"
   ]
  },
  {
   "cell_type": "code",
   "execution_count": null,
   "metadata": {},
   "outputs": [],
   "source": []
  }
 ],
 "metadata": {
  "kernelspec": {
   "display_name": "Python 3.6.9 64-bit ('py3': conda)",
   "language": "python",
   "name": "python36964bitpy3conda60633d48403345ae97f51c0b3851bbd1"
  },
  "language_info": {
   "codemirror_mode": {
    "name": "ipython",
    "version": 3
   },
   "file_extension": ".py",
   "mimetype": "text/x-python",
   "name": "python",
   "nbconvert_exporter": "python",
   "pygments_lexer": "ipython3",
   "version": "3.6.9-final"
  }
 },
 "nbformat": 4,
 "nbformat_minor": 2
}