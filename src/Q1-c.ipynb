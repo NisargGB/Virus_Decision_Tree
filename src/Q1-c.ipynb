{
 "cells": [
  {
   "cell_type": "code",
   "execution_count": 27,
   "metadata": {},
   "outputs": [],
   "source": [
    "import numpy as np\n",
    "import pandas as pd\n",
    "import math\n",
    "import time\n",
    "from xclib.data import data_utils"
   ]
  },
  {
   "cell_type": "code",
   "execution_count": 28,
   "metadata": {},
   "outputs": [],
   "source": [
    "datapath = './../virus/ass3_parta_data/'\n",
    "num_classes = 2"
   ]
  },
  {
   "cell_type": "code",
   "execution_count": 29,
   "metadata": {},
   "outputs": [],
   "source": [
    "def read_datafile(filepath):\n",
    "    temp = data_utils.read_sparse_file(filepath, force_header=True)\n",
    "    return temp"
   ]
  },
  {
   "cell_type": "code",
   "execution_count": 30,
   "metadata": {},
   "outputs": [
    {
     "name": "stdout",
     "output_type": "stream",
     "text": "(64713, 482)\n(64713, 1)\n"
    }
   ],
   "source": [
    "train_data = read_datafile(datapath + 'train_x.txt')\n",
    "X_train = train_data.todense()\n",
    "y_train = np.genfromtxt(datapath + 'train_y.txt', dtype=float).reshape((-1,1))\n",
    "print(X_train.shape)\n",
    "print(y_train.shape)"
   ]
  },
  {
   "cell_type": "code",
   "execution_count": 31,
   "metadata": {},
   "outputs": [
    {
     "name": "stdout",
     "output_type": "stream",
     "text": "Time taken = 7.653236389160156e-05 s\n"
    }
   ],
   "source": [
    "from sklearn.ensemble import RandomForestClassifier\n",
    "from sklearn.metrics import accuracy_score\n",
    "\n",
    "start = time.time()\n",
    "\n",
    "clf = RandomForestClassifier(n_estimators=50, oob_score=True, max_features=0.1, min_samples_split=2, n_jobs=11, criterion='entropy')\n",
    "# clf.fit(X_train, y_train.reshape(-1))\n",
    "\n",
    "end = time.time()\n",
    "print(\"Time taken = {} s\".format(end-start))"
   ]
  },
  {
   "cell_type": "code",
   "execution_count": 32,
   "metadata": {},
   "outputs": [
    {
     "name": "stdout",
     "output_type": "stream",
     "text": "Time taken = 0.00042057037353515625 s\n"
    }
   ],
   "source": [
    "from sklearn.model_selection import GridSearchCV\n",
    "\n",
    "start = time.time()\n",
    "\n",
    "parameters = {\n",
    "    'n_estimators': [50, 150, 250, 350, 450],\n",
    "    'max_features': [0.1, 0.3, 0.5, 0.7, 0.9],\n",
    "    'min_samples_split': [2, 4, 6, 8, 10],\n",
    "}\n",
    "\n",
    "# gscv = GridSearchCV(estimator=clf, param_grid=parameters, cv=3, n_jobs=1)\n",
    "# gscv_fit = gscv.fit(X_train, y_train.reshape(-1))\n",
    "\n",
    "end = time.time()\n",
    "print(\"Time taken = {} s\".format(end-start))"
   ]
  },
  {
   "cell_type": "code",
   "execution_count": 33,
   "metadata": {},
   "outputs": [
    {
     "name": "stdout",
     "output_type": "stream",
     "text": "1: OOB Score = 0.7977067977067978\n\tTime taken = 7.017951488494873 s\n2: OOB Score = 0.8026671611577272\n\tTime taken = 7.016727924346924 s\n3: OOB Score = 0.8040424644198229\n\tTime taken = 7.130366086959839 s\n4: OOB Score = 0.8065303725681084\n\tTime taken = 7.228735685348511 s\n5: OOB Score = 0.8070248636286372\n\tTime taken = 7.403018951416016 s\n6: OOB Score = 0.7997002147945544\n\tTime taken = 17.058873176574707 s\n7: OOB Score = 0.8012145936674239\n\tTime taken = 14.71429443359375 s\n8: OOB Score = 0.8042433514131627\n\tTime taken = 16.023998260498047 s\n9: OOB Score = 0.8057886359773152\n\tTime taken = 16.181668758392334 s\n10: OOB Score = 0.8060822400445042\n\tTime taken = 16.01027536392212 s\n11: OOB Score = 0.7998083847140451\n\tTime taken = 24.535414934158325 s\n12: OOB Score = 0.800658291224329\n\tTime taken = 24.211551904678345 s\n13: OOB Score = 0.8029298595336332\n\tTime taken = 24.042564153671265 s\n14: OOB Score = 0.8049696351583144\n\tTime taken = 23.615413665771484 s\n15: OOB Score = 0.8083074498168837\n\tTime taken = 23.5692400932312 s\n16: OOB Score = 0.7980622131565528\n\tTime taken = 32.431318044662476 s\n17: OOB Score = 0.8007510082981781\n\tTime taken = 32.1066620349884 s\n18: OOB Score = 0.8032543692921051\n\tTime taken = 31.622901678085327 s\n19: OOB Score = 0.8047069367824085\n\tTime taken = 31.63947296142578 s\n20: OOB Score = 0.8058659002055228\n\tTime taken = 31.464289665222168 s\n21: OOB Score = 0.7978458733175714\n\tTime taken = 40.07175016403198 s\n22: OOB Score = 0.8000556302443095\n\tTime taken = 41.362985372543335 s\n23: OOB Score = 0.8028525953054255\n\tTime taken = 49.417168378829956 s\n24: OOB Score = 0.8030071237618407\n\tTime taken = 46.140865325927734 s\n25: OOB Score = 0.8037952188895585\n\tTime taken = 40.206846952438354 s\n26: OOB Score = 0.801307310741273\n\tTime taken = 42.33050489425659 s\n27: OOB Score = 0.8046451253998423\n\tTime taken = 23.8415629863739 s\n28: OOB Score = 0.807519354689166\n\tTime taken = 22.16248917579651 s\n29: OOB Score = 0.8086010538840728\n\tTime taken = 22.201955318450928 s\n30: OOB Score = 0.8089255636425448\n\tTime taken = 32.92457866668701 s\n31: OOB Score = 0.8023735570905383\n\tTime taken = 56.32949185371399 s\n32: OOB Score = 0.8036870489700678\n\tTime taken = 40.62869429588318 s\n33: OOB Score = 0.8058040888229567\n\tTime taken = 42.041918992996216 s\n34: OOB Score = 0.8076893359912228\n\tTime taken = 45.32323336601257 s\n35: OOB Score = 0.8090955449446016\n\tTime taken = 50.14908695220947 s\n36: OOB Score = 0.801894518875651\n\tTime taken = 68.1205587387085 s\n37: OOB Score = 0.8046296725542008\n\tTime taken = 61.64700245857239 s\n38: OOB Score = 0.8062985798834855\n\tTime taken = 61.31081008911133 s\n39: OOB Score = 0.808137468514827\n\tTime taken = 62.41161894798279 s\n40: OOB Score = 0.8082147327430347\n\tTime taken = 67.3548002243042 s\n41: OOB Score = 0.8011218765935747\n\tTime taken = 111.62709975242615 s\n42: OOB Score = 0.8042433514131627\n\tTime taken = 94.39979553222656 s\n43: OOB Score = 0.8062522213465609\n\tTime taken = 92.44593930244446 s\n44: OOB Score = 0.806314032729127\n\tTime taken = 87.94407558441162 s\n45: OOB Score = 0.8075502603804491\n\tTime taken = 97.67266297340393 s\n46: OOB Score = 0.8012300465130654\n\tTime taken = 124.44835305213928 s\n47: OOB Score = 0.8030689351444068\n\tTime taken = 127.40000295639038 s\n48: OOB Score = 0.8050468993865221\n\tTime taken = 126.47776341438293 s\n49: OOB Score = 0.8067312595614482\n\tTime taken = 118.73750972747803 s\n50: OOB Score = 0.8071021278568449\n\tTime taken = 114.40815448760986 s\n51: OOB Score = 0.8022035757884814\n\tTime taken = 63.45401167869568 s\n52: OOB Score = 0.8055413904470509\n\tTime taken = 38.77999973297119 s\n53: OOB Score = 0.8078747701389211\n\tTime taken = 53.965266942977905 s\n54: OOB Score = 0.8090955449446016\n\tTime taken = 42.996283292770386 s\n55: OOB Score = 0.8102390555220744\n\tTime taken = 38.608354806900024 s\n56: OOB Score = 0.8020181416407831\n\tTime taken = 97.29037284851074 s\n57: OOB Score = 0.8044442384065026\n\tTime taken = 76.3693859577179 s\n58: OOB Score = 0.8078593172932795\n\tTime taken = 102.0627932548523 s\n59: OOB Score = 0.8089719221794693\n\tTime taken = 77.00941896438599 s\n60: OOB Score = 0.8099609043005269\n\tTime taken = 97.13081526756287 s\n61: OOB Score = 0.8019099717212925\n\tTime taken = 139.32075810432434 s\n62: OOB Score = 0.8051396164603711\n\tTime taken = 137.86301636695862 s\n63: OOB Score = 0.8067776180983728\n\tTime taken = 145.81163358688354 s\n64: OOB Score = 0.8078284116019965\n\tTime taken = 140.42470812797546 s\n65: OOB Score = 0.8088328465686956\n\tTime taken = 130.92963552474976 s\n66: OOB Score = 0.8018636131843679\n\tTime taken = 158.60523462295532 s\n67: OOB Score = 0.8049387294670314\n\tTime taken = 162.2214012145996 s\n68: OOB Score = 0.8059431644337305\n\tTime taken = 160.055566072464 s\n69: OOB Score = 0.807843864447638\n\tTime taken = 160.09159874916077 s\n70: OOB Score = 0.8083847140450914\n\tTime taken = 159.91338300704956 s\n71: OOB Score = 0.8014309335064052\n\tTime taken = 198.27880764007568 s\n72: OOB Score = 0.8030534822987653\n\tTime taken = 194.99801516532898 s\n73: OOB Score = 0.8055568432926924\n\tTime taken = 199.23992443084717 s\n74: OOB Score = 0.8066076367963161\n\tTime taken = 232.06699085235596 s\n75: OOB Score = 0.8084928839645821\n\tTime taken = 195.78861665725708 s\n76: OOB Score = 0.8018790660300095\n\tTime taken = 55.07164907455444 s\n77: OOB Score = 0.8066539953332407\n\tTime taken = 55.44196176528931 s\n78: OOB Score = 0.8076120717630152\n\tTime taken = 71.56246757507324 s\n79: OOB Score = 0.8098063758441117\n\tTime taken = 54.42424535751343 s\n80: OOB Score = 0.8107180937369617\n\tTime taken = 55.00430417060852 s\n81: OOB Score = 0.8026053497751611\n\tTime taken = 110.2846691608429 s\n82: OOB Score = 0.805603201829617\n\tTime taken = 122.6288788318634 s\n83: OOB Score = 0.8073339205414677\n\tTime taken = 109.18748235702515 s\n84: OOB Score = 0.8092809790922999\n\tTime taken = 110.70735478401184 s\n85: OOB Score = 0.8100845270656591\n\tTime taken = 124.91665530204773 s\n86: OOB Score = 0.8032852749833882\n\tTime taken = 161.1456379890442 s\n87: OOB Score = 0.8043824270239365\n\tTime taken = 179.91147756576538 s\n88: OOB Score = 0.8072102977763355\n\tTime taken = 179.00340509414673 s\n89: OOB Score = 0.8084774311189405\n\tTime taken = 179.16656589508057 s\n90: OOB Score = 0.8095900360051304\n\tTime taken = 177.0026524066925 s\n91: OOB Score = 0.8023426513992552\n\tTime taken = 216.7868902683258 s\n92: OOB Score = 0.8046296725542008\n\tTime taken = 228.08042645454407 s\n93: OOB Score = 0.8064840140311839\n\tTime taken = 228.93960428237915 s\n94: OOB Score = 0.8077666002194304\n\tTime taken = 231.17239356040955 s\n95: OOB Score = 0.8090337335620355\n\tTime taken = 236.5747766494751 s\n96: OOB Score = 0.8018481603387264\n\tTime taken = 290.106502532959 s\n97: OOB Score = 0.8044751440977856\n\tTime taken = 288.00424313545227 s\n98: OOB Score = 0.8058040888229567\n\tTime taken = 312.88163590431213 s\n99: OOB Score = 0.8075811660717321\n\tTime taken = 289.2841911315918 s\n100: OOB Score = 0.808137468514827\n\tTime taken = 305.6846499443054 s\n101: OOB Score = 0.8026208026208026\n\tTime taken = 82.11118602752686 s\n102: OOB Score = 0.8059740701250135\n\tTime taken = 72.61717867851257 s\n103: OOB Score = 0.8082765441256007\n\tTime taken = 91.38383197784424 s\n104: OOB Score = 0.8093891490117905\n\tTime taken = 68.69315719604492 s\n105: OOB Score = 0.8109035278846599\n\tTime taken = 85.1091902256012 s\n106: OOB Score = 0.8026208026208026\n\tTime taken = 155.24577713012695 s\n107: OOB Score = 0.8060822400445042\n\tTime taken = 155.23781514167786 s\n108: OOB Score = 0.8079829400584118\n\tTime taken = 152.31435680389404 s\n109: OOB Score = 0.8091573563271677\n\tTime taken = 156.29170298576355 s\n110: OOB Score = 0.8100536213743761\n\tTime taken = 141.97640800476074 s\n111: OOB Score = 0.8024971798556704\n\tTime taken = 227.3006751537323 s\n112: OOB Score = 0.8052941449167864\n\tTime taken = 246.81680917739868 s\n113: OOB Score = 0.8064994668768254\n\tTime taken = 228.3516366481781 s\n114: OOB Score = 0.8081838270517516\n\tTime taken = 246.73075485229492 s\n115: OOB Score = 0.8101308856025837\n\tTime taken = 226.6681752204895 s\n116: OOB Score = 0.8024199156274628\n\tTime taken = 335.5596079826355 s\n117: OOB Score = 0.8049078237757483\n\tTime taken = 321.62087059020996 s\n118: OOB Score = 0.8070557693199203\n\tTime taken = 331.7494239807129 s\n119: OOB Score = 0.8071021278568449\n\tTime taken = 340.49404096603394 s\n120: OOB Score = 0.810347225441565\n\tTime taken = 320.63258028030396 s\n121: OOB Score = 0.801894518875651\n\tTime taken = 420.028767824173 s\n122: OOB Score = 0.8043051627957288\n\tTime taken = 419.7509534358978 s\n123: OOB Score = 0.8058349945142398\n\tTime taken = 448.4730498790741 s\n124: OOB Score = 0.8075039018435245\n\tTime taken = 400.1651668548584 s\n125: OOB Score = 0.8085392425015067\n\tTime taken = 387.8888032436371 s\n"
    }
   ],
   "source": [
    "count = 1\n",
    "best_score = 0.0\n",
    "best_param = [0, 0.0, 0]\n",
    "for n_est in parameters['n_estimators']:\n",
    "    for max_feat in parameters['max_features']:\n",
    "        for min_sam in parameters['min_samples_split']:\n",
    "\n",
    "            start = time.time()\n",
    "            clf = RandomForestClassifier(n_estimators=n_est, oob_score=True, max_features=max_feat, min_samples_split=min_sam, n_jobs=-1, criterion='entropy')\n",
    "            clf.fit(X_train, y_train.reshape(-1))\n",
    "            if clf.oob_score_ > best_score:\n",
    "                best_score = clf.oob_score_\n",
    "                best_param = [n_est, max_feat, min_sam]\n",
    "            end = time.time()\n",
    "            print(\"{}: OOB Score = {}\".format(count, clf.oob_score_))\n",
    "            print(\"\\tTime taken = {} s\".format(end-start))\n",
    "            count += 1"
   ]
  },
  {
   "cell_type": "code",
   "execution_count": 45,
   "metadata": {},
   "outputs": [
    {
     "name": "stdout",
     "output_type": "stream",
     "text": "Time taken = 62.57508182525635 s\n"
    }
   ],
   "source": [
    "start = time.time()\n",
    "# best_params = gscv_fit.best_params_\n",
    "# oclf = RandomForestClassifier(n_estimators=best_params[\"n_estimators\"], oob_score=True, max_features=best_params[\"max_features\"], min_samples_split=best_params[\"min_samples_split\"], n_jobs=-1, criterion='entropy')\n",
    "oclf = RandomForestClassifier(n_estimators=best_param[0], oob_score=True, max_features=best_param[1], min_samples_split=best_param[2], n_jobs=-1, criterion='entropy')\n",
    "oclf.fit(X_train, y_train.reshape(-1))\n",
    "end = time.time()\n",
    "print(\"Time taken = {} s\".format(end-start))"
   ]
  },
  {
   "cell_type": "code",
   "execution_count": 46,
   "metadata": {},
   "outputs": [],
   "source": [
    "model = oclf"
   ]
  },
  {
   "cell_type": "code",
   "execution_count": 47,
   "metadata": {},
   "outputs": [
    {
     "name": "stdout",
     "output_type": "stream",
     "text": "[450, 0.1, 10]\n0.8109035278846599\n"
    }
   ],
   "source": [
    "print(best_param)\n",
    "print(best_score)"
   ]
  },
  {
   "cell_type": "code",
   "execution_count": 49,
   "metadata": {},
   "outputs": [
    {
     "name": "stdout",
     "output_type": "stream",
     "text": "Training accuracy = 87.59909137267628%\nTest accuracy = 80.74729961522414%\nValidation accuracy = 80.67865751900612%\n"
    }
   ],
   "source": [
    "# Making predictions\n",
    "X_test = read_datafile(datapath + 'train_x.txt').toarray()\n",
    "y_preds = model.predict(X_test)\n",
    "y_test = np.genfromtxt(datapath + 'train_y.txt', dtype=float)\n",
    "check = (y_preds == y_test)\n",
    "accuracy = np.sum(check) * 100.0 / len(check)\n",
    "print(\"Training accuracy = {}%\".format(accuracy))\n",
    "X_test = read_datafile(datapath + 'test_x.txt').toarray()\n",
    "y_preds = model.predict(X_test)\n",
    "y_test = np.genfromtxt(datapath + 'test_y.txt', dtype=float)\n",
    "check = (y_preds == y_test)\n",
    "accuracy = np.sum(check) * 100.0 / len(check)\n",
    "print(\"Test accuracy = {}%\".format(accuracy))\n",
    "X_test = read_datafile(datapath + 'valid_x.txt').toarray()\n",
    "y_preds = model.predict(X_test)\n",
    "y_test = np.genfromtxt(datapath + 'valid_y.txt', dtype=float)\n",
    "check = (y_preds == y_test)\n",
    "accuracy = np.sum(check) * 100.0 / len(check)\n",
    "print(\"Validation accuracy = {}%\".format(accuracy))"
   ]
  },
  {
   "cell_type": "code",
   "execution_count": null,
   "metadata": {},
   "outputs": [],
   "source": []
  }
 ],
 "metadata": {
  "kernelspec": {
   "display_name": "Python 3.6.9 64-bit ('py3': conda)",
   "language": "python",
   "name": "python36964bitpy3conda60633d48403345ae97f51c0b3851bbd1"
  },
  "language_info": {
   "codemirror_mode": {
    "name": "ipython",
    "version": 3
   },
   "file_extension": ".py",
   "mimetype": "text/x-python",
   "name": "python",
   "nbconvert_exporter": "python",
   "pygments_lexer": "ipython3",
   "version": "3.6.9-final"
  }
 },
 "nbformat": 4,
 "nbformat_minor": 2
}